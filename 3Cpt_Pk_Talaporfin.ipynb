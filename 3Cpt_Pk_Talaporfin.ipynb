{
  "nbformat": 4,
  "nbformat_minor": 0,
  "metadata": {
    "colab": {
      "provenance": [],
      "collapsed_sections": [
        "yF2o0xUzo4zC"
      ],
      "machine_shape": "hm",
      "gpuType": "T4",
      "authorship_tag": "ABX9TyNoU8VdLBG7W4dgxIPWnKIp",
      "include_colab_link": true
    },
    "kernelspec": {
      "name": "python3",
      "display_name": "Python 3"
    },
    "language_info": {
      "name": "python"
    },
    "accelerator": "GPU"
  },
  "cells": [
    {
      "cell_type": "markdown",
      "metadata": {
        "id": "view-in-github",
        "colab_type": "text"
      },
      "source": [
        "<a href=\"https://colab.research.google.com/github/Nahmadid/WeeklyReport/blob/main/3Cpt_Pk_Talaporfin.ipynb\" target=\"_parent\"><img src=\"https://colab.research.google.com/assets/colab-badge.svg\" alt=\"Open In Colab\"/></a>"
      ]
    },
    {
      "cell_type": "code",
      "source": [
        "import jax\n",
        "import numpy as np\n",
        "from scipy.integrate import odeint\n",
        "import jax.numpy as jnp\n",
        "import numpy as np\n",
        "import matplotlib.pyplot as plt\n",
        "from matplotlib import cm\n",
        "import matplotlib as mpl\n",
        "import optax\n",
        "import sys\n",
        "import jax.nn as jnn\n",
        "import matplotlib.pyplot as plt"
      ],
      "metadata": {
        "id": "TgYS2HhsIn-c"
      },
      "execution_count": 226,
      "outputs": []
    },
    {
      "cell_type": "code",
      "execution_count": 29,
      "metadata": {
        "cellView": "form",
        "id": "37NsZ5edC_H9"
      },
      "outputs": [],
      "source": [
        "#@title nothing\n",
        "# #Defining the model\n",
        "# def Pk(\n",
        "#     t,\n",
        "#     f1 = 0.0 ,\n",
        "#     V1 = 394 ,\n",
        "#     V2 = 251,\n",
        "#     V3 = 970,\n",
        "#     k10 = 1.18,\n",
        "#     k12 = 4.37,\n",
        "#     k21 = 7.85,\n",
        "#     k23 = 6.41,\n",
        "#     k32 = 0.75,\n",
        "# ):\n",
        "#     def func(y, t):\n",
        "\n",
        "#         return [\n",
        "#             1/V1 * (-(k10+k12) * V1 * y[0] + k21 * y[1] * V2),\n",
        "#             1/V2 * (k12 * V1 * y[0] - (k21+k23) * V2 * y[1] + k32 * V3 * y[2]),\n",
        "#             1/V3 * (k23 * V2 * y[1] - k32 * V3 * y[2]),\n",
        "#         ]\n",
        "\n",
        "#     # defining initial conditions for 6 state variables\n",
        "#     y0 = [0 ,0 ,0]\n",
        "#     return odeint(func, y0, t)\n",
        "\n",
        "\n",
        "\n",
        "\n",
        "\n",
        "# t_dense = jnp.linspace(0, 5, 501)[:, None]\n",
        "# y_dense = Pk(np.ravel(t_dense))\n",
        "\n",
        "\n",
        "# Data\n",
        "t_label1 = [[0], [0.09595],[0.17676],[0.25757],[0.33838],[0.50505],[0.67171],[0.84848],[1],[1.16666],[1.24747],[1.41414]]\n",
        "t1 = np.array([x[0] for x in t_label1])\n",
        "c1 = np.array([59, 39.44727, 36.19782, 24.78948, 21.61946, 17.37336, 10.1553, 8.0222, 6.63457, 5.52865, 5.16237, 4.43028])\n",
        "\n",
        "\n",
        "\n",
        "\n",
        "t_label2 = [[0], [0.176767], [0.67676]]\n",
        "t2 = np.array([x[0] for x in t_label2])\n",
        "mmyo = np.array([4.85981, 8.14641, 9.68847])"
      ]
    },
    {
      "cell_type": "code",
      "source": [
        "# Data\n",
        "t_label1 = [[0], [0.09595],[0.17676],[0.25757],[0.33838],[0.50505],[0.67171],[0.84848],[1],[1.16666],[1.24747],[1.41414]]\n",
        "t1 = np.array([x[0] for x in t_label1])\n",
        "c1 = np.array([59, 39.44727, 36.19782, 24.78948, 21.61946, 17.37336, 10.1553, 8.0222, 6.63457, 5.52865, 5.16237, 4.43028])\n",
        "\n",
        "\n",
        "t_label2 = [[0], [0.176767], [0.67676]]\n",
        "t2 = np.array([x[0] for x in t_label2])\n",
        "mmyo = np.array([4.85981, 8.14641, 9.68847])\n",
        "\n",
        "\n",
        "\n",
        "# Data\n",
        "data_c1  = np.column_stack ([t1 ,c1]).astype(np.float32)\n",
        "data_mmyo =np.column_stack([t2, mmyo]).astype(np.float32)\n",
        "t_i  = jnp.array([[0]])\n",
        "IC = np.array([59 , 0, 0]).astype(np.float32)\n",
        "IC\n",
        ""
      ],
      "metadata": {
        "colab": {
          "base_uri": "https://localhost:8080/"
        },
        "id": "hSILrIFb6WV8",
        "outputId": "b806a22f-3ce7-4e5f-89bf-11f7c6b3eee6"
      },
      "execution_count": 228,
      "outputs": [
        {
          "output_type": "execute_result",
          "data": {
            "text/plain": [
              "array([59.,  0.,  0.], dtype=float32)"
            ]
          },
          "metadata": {},
          "execution_count": 228
        }
      ]
    },
    {
      "cell_type": "code",
      "source": [
        "plt.figure()\n",
        "\n",
        "plt.plot(t1, c1, marker='o', label='c1')\n",
        "# Add a legend\n",
        "plt.legend()\n",
        "# Display the plot\n",
        "plt.grid(True)\n",
        "plt.plot(t2, mmyo, marker='s', label='mmyo')\n",
        "# plt.plot(t_dense,y_dense[:,1],'r',label='')\n",
        "# Add labels and title\n",
        "plt.xlabel('t [hrs]')\n",
        "# Add a legend\n",
        "plt.legend()\n"
      ],
      "metadata": {
        "colab": {
          "base_uri": "https://localhost:8080/",
          "height": 467
        },
        "id": "xaRbeGFpNT5q",
        "outputId": "23794231-bc90-40f1-ec1e-2287292b1374"
      },
      "execution_count": 229,
      "outputs": [
        {
          "output_type": "execute_result",
          "data": {
            "text/plain": [
              "<matplotlib.legend.Legend at 0x7ff0a1f05bd0>"
            ]
          },
          "metadata": {},
          "execution_count": 229
        },
        {
          "output_type": "display_data",
          "data": {
            "text/plain": [
              "<Figure size 640x480 with 1 Axes>"
            ],
            "image/png": "[encoded data removed]"
          },
          "metadata": {}
        }
      ]
    },
    {
      "cell_type": "code",
      "source": [
        "t_dense = jnp.linspace(0, 5, 501)[:, None]\n",
        "# tmin,tmax=0.\n",
        "tmin, tmax = t_dense[0,0], t_dense[-1,0]\n",
        "\n",
        "#t = (t-np.min(t))/(np.max(t)-np.min(t))\n",
        "def init_params(layers):\n",
        "    keys = jax.random.split(jax.random.PRNGKey(0), len(layers) - 1)\n",
        "    params = []\n",
        "    for key, n_in, n_out in zip(keys, layers[:-1], layers[1:]):\n",
        "        W = jax.random.normal(key, shape=(n_in, n_out)) / jnp.sqrt(n_in) # random initialization\n",
        "        B = jax.random.normal(key, shape=(n_out,))\n",
        "        # params.append({'W': W, 'B': B , 'k1': 0.0 , 'k2': 0.0, 'l0': 0.0})\n",
        "        params.append({'W': W, 'B': B })\n",
        "    return params\n",
        "\n",
        "\n",
        "def fwd(params,t):\n",
        "  # t = 0.01 * t\n",
        "  X = jnp.concatenate([t],axis=1)\n",
        "  *hidden,last = params\n",
        "  for layer in hidden :\n",
        "    X = jax.nn.tanh(X@layer['W']+layer['B'])\n",
        "    # X = jnp.sin(X@layer['W']+layer['B'])\n",
        "  X = X@last['W'] + last['B']\n",
        "  return X # jnn.softplus(X)\n",
        "\n",
        "# def fwd_extra(params,t):\n",
        "#   # t = 0.01 * t\n",
        "#   X = jnp.concatenate([t],axis=1)\n",
        "#   *hidden,last = params\n",
        "#   for layer in hidden :\n",
        "#     X = jax.nn.tanh(X@layer['W']+layer['B'])\n",
        "#   X = X@last['W'] + last['B']\n",
        "#   return jnn.softplus(X)\n",
        "\n",
        "\n",
        "\n",
        "@jax.jit\n",
        "def MSE(true,pred):\n",
        "  return jnp.mean((true-pred)**2)\n",
        "\n",
        "\n"
      ],
      "metadata": {
        "id": "e7DpxSFegyGb"
      },
      "execution_count": 230,
      "outputs": []
    },
    {
      "cell_type": "code",
      "source": [
        "# t here should be t collocation points\n",
        "def ODE_loss(t, y1, y2, y3):\n",
        "    V1 = 394\n",
        "    V2 = 251\n",
        "    V3 = 970\n",
        "    k10 = 1.18\n",
        "    k12 = 4.37\n",
        "    k21 = 7.85\n",
        "    k23 = 6.41\n",
        "    k32 = 0.75\n",
        "    # N = 4\n",
        "    # dt = t/N\n",
        "    # w0 = 0\n",
        "    # w1 = 1\n",
        "    # w2 = 2\n",
        "    # w3 = 3\n",
        "    # w4 = 4\n",
        "\n",
        "    # y1(0*dt)*w4 + y1(1*dt)*w3 +\n",
        "    # # kg = params[0]['kg']\n",
        "    # kg = params[0]['kg']\n",
        "    # y1 = jnn.softplus(y1(t))\n",
        "    # y2 = jnn.softplus(y2(t))\n",
        "    # y3 = jnn.softplus(y3(t))\n",
        "\n",
        "    y1_t = lambda t: jax.grad(lambda t: jnp.sum(y1(t)))(t)\n",
        "    y2_t = lambda t: jax.grad(lambda t: jnp.sum(y2(t)))(t)\n",
        "    y3_t = lambda t: jax.grad(lambda t: jnp.sum(y3(t)))(t)\n",
        "\n",
        "    ode1 = y1_t(t) - (1/V1 * (-(k10 + k12) * V1 * y1(t) + k21 * y2(t) * V2))\n",
        "    ode2 = y2_t(t) - (1/V2 * (k12 * V1 * y1(t) - (k21 + k23) * V2 * y2(t) + k32 * V3 * y3(t)))\n",
        "    ode3 = y3_t(t) - (1/V3 * (k23 * V2 * y2(t) - k32 * V3 * y3(t)))\n",
        "\n",
        "    return ode1, ode2, ode3\n",
        "\n",
        "\n",
        "# t here should eb t data for Mmyo\n",
        "def Cmyo_loss(y1, y2, y3, data_mmyo):\n",
        "    t = data_mmyo[:,0:1]\n",
        "    Mm = data_mmyo[:,1:2]\n",
        "    # Rm = 0.189\n",
        "    Cmyo = 0.08 * y1(t) + 0.189 * y2(t) + 0.731 * y3(t)\n",
        "    # loss_Cmyo = Rm * Mm - Cmyo\n",
        "    loss_Cmyo = Mm - Cmyo\n",
        "    return loss_Cmyo\n",
        "\n",
        "\n",
        "#collocation points\n",
        "N_c = 500\n",
        "t_c = jnp.linspace(tmin, tmax, N_c+1)[:, None]\n",
        "\n",
        "# def loss_fun(params,params_extra, l1 ,l2 , t_i, t_d, t_c, data_IC, data_c1, data_mmyo):\n",
        "def loss_fun(params, l1, l2, l3, t_i, t_c, data_IC, data_c1, data_mmyo):\n",
        "\n",
        "    y1_func = lambda t: fwd(params, t)[:, [0]]\n",
        "    y2_func = lambda t: fwd(params, t)[:, [1]]\n",
        "    y3_func = lambda t: fwd(params, t)[:, [2]]\n",
        "    # ft      = lambda t: fwd(params, t)[:, [2]]\n",
        "    # ft     = lambda t: fwd_extra(params_extra, t)[:, [0]]\n",
        "\n",
        "    loss_Cmyo = Cmyo_loss(y1_func, y2_func, y3_func, data_mmyo)\n",
        "\n",
        "    # loss_y1, loss_y2, loss_y3 = ODE_loss(t_c, params, y1_func, y2_func, y3_func, f_t)\n",
        "    loss_y1, loss_y2, loss_y3 = ODE_loss(t_c, y1_func, y2_func, y3_func)\n",
        "\n",
        "    loss_y1 = l1 * loss_y1\n",
        "    loss_y2 = l2 * loss_y2\n",
        "    loss_y3 = l3 * loss_y3\n",
        "\n",
        "    loss_ode1 = jnp.mean(loss_y1 ** 2)\n",
        "    loss_ode2 = jnp.mean(loss_y2 ** 2)\n",
        "    loss_ode3 = jnp.mean(loss_y3 ** 2)\n",
        "\n",
        "    loss_Cmyo = jnp.mean(loss_Cmyo ** 2)\n",
        "\n",
        "    # Compute the loss for the initial conditions\n",
        "    t_i = t_i.flatten()[:,None]\n",
        "    pred_IC = jnp.concatenate([y1_func(t_i), y2_func(t_i), y3_func(t_i)],axis=1)\n",
        "    loss_IC = MSE(data_IC, pred_IC)\n",
        "\n",
        "\n",
        "    # Compute the loss for Y_data\n",
        "    t_d = data_c1[:,0:1]\n",
        "    C1 = data_c1[:,1:2]\n",
        "    t_d    = t_d.flatten()[:,None]\n",
        "    pred_d = y1_func(t_d)\n",
        "    loss_data = MSE(C1, pred_d)\n",
        "\n",
        "\n",
        "    return loss_IC, loss_data, loss_ode1, loss_ode2, loss_ode3, loss_Cmyo\n",
        "\n",
        "\n",
        "\n",
        "# def loss_fun_total(params, params_extra, l1,l2, t_i, t_d, t_c, data_IC, data, loss_weight):\n",
        "def loss_fun_total(params, l1,l2, l3, t_i, t_c, data_IC, data_c1, data_mmyo, loss_weight):\n",
        "\n",
        "    loss_IC, loss_data, loss_ode1, loss_ode2, loss_ode3, loss_Cmyo = loss_fun(params, l1,l2,l3, t_i, t_c, data_IC, data_c1, data_mmyo)\n",
        "\n",
        "    loss_total = loss_weight[0]*loss_IC+ loss_weight[1]*loss_data\\\n",
        "                + loss_weight[2]*loss_ode1 + loss_weight[3]*loss_ode2 + loss_weight[4]*loss_ode3 + loss_weight[5]* loss_Cmyo\n",
        "\n",
        "    return loss_total\n",
        "\n",
        "\n",
        "\n",
        "\n",
        "@jax.jit\n",
        "# def update(opt_state, opt_state_extra, params, params_extra, params_l1, params_l2, opt_state_l1, opt_state_l2, t_i, t_data, t_c, IC, data, loss_weight):\n",
        "#   grads=jax.grad(loss_fun_total, argnums=[0,1,2,3])(params,params_extra, params_l1, params_l2, t_i, t_data, t_c, IC, data, loss_weight)\n",
        "\n",
        "def update(opt_state, params, params_l1, params_l2, params_l3, opt_state_l1, opt_state_l2,opt_state_l3, t_i, t_c, IC, data_c1, data_mmyo, loss_weight):\n",
        "  grads=jax.grad(loss_fun_total, argnums=[0,1,2,3])(params, params_l1, params_l2, params_l3, t_i, t_c, IC,  data_c1, data_mmyo, loss_weight)\n",
        "\n",
        "  #Update params\n",
        "  updates, opt_state = optimizer.update(grads[0], opt_state)\n",
        "  params = optax.apply_updates(params, updates)\n",
        "\n",
        "  # updates_extra, opt_state_extra = optimizer_ex.update(grads[1], opt_state_extra)\n",
        "  # params_extra = optax.apply_updates(params_extra, updates_extra)\n",
        "\n",
        "  updates_l1, opt_state_l1 = optimizer.update(-grads[1], opt_state_l1)\n",
        "  params_l1 = optax.apply_updates(params_l1, updates_l1)\n",
        "  # params_l1 = 1\n",
        "  updates_l2, opt_state_l2 = optimizer.update(-grads[2], opt_state_l2)\n",
        "  params_l2 = optax.apply_updates(params_l2, updates_l2)\n",
        "  # params_l2 = 1\n",
        "  updates_l3, opt_state_l3 = optimizer.update(-grads[3], opt_state_l3)\n",
        "  params_l3 = optax.apply_updates(params_l3, updates_l3)\n",
        "  # params_l3 = 1\n",
        "  # opt_state_l1, opt_state_l2, opt_state_l3 = 0 , 0 , 0\n",
        "  return opt_state, params, params_l1, params_l2, params_l3, opt_state_l1, opt_state_l2, opt_state_l3\n",
        "\n",
        "\n",
        "\n"
      ],
      "metadata": {
        "id": "d59FueVBmzFg"
      },
      "execution_count": 231,
      "outputs": []
    },
    {
      "cell_type": "code",
      "source": [
        "params = init_params([1] + [20]*4+[3])\n",
        "# params_extra = init_params([1] + [20]*4+[1])  # Initialize parameters for the extra neural network\n",
        "\n",
        "optimizer = optax.adam(1e-3)\n",
        "opt_state = optimizer.init(params)\n",
        "# optimizer_ex = optax.adam(1e-5)\n",
        "# opt_state_extra = optimizer_ex.init(params_extra)\n",
        "\n",
        "\n",
        "keys = jax.random.split(jax.random.PRNGKey(0), 10)\n",
        "\n",
        "lambda_1 = jax.random.uniform(keys[0], shape=(N_c + 1, 1))\n",
        "lambda_2 = jax.random.uniform(keys[1], shape=(N_c + 1, 1))\n",
        "lambda_3 = jax.random.uniform(keys[2], shape=(N_c + 1, 1))\n",
        "# lambda_1 = 1\n",
        "# lambda_2 = 1\n",
        "# lambda_3 = 1\n",
        "opt_state_l1 = optimizer.init(lambda_1)\n",
        "opt_state_l2 = optimizer.init(lambda_2)\n",
        "opt_state_l3 = optimizer.init(lambda_3)\n"
      ],
      "metadata": {
        "id": "E1RNQi4mO0T0"
      },
      "execution_count": 232,
      "outputs": []
    },
    {
      "cell_type": "code",
      "source": [
        "# start_time = time.time()\n",
        "epochs_phase1 = 10000\n",
        "epochs_phase2 = 30000\n",
        "\n",
        "loss_weight_phase1 = [1, 1, 0, 0, 0, 10]\n",
        "loss_weight_phase2 = [1, 1, 1, 1, 1, 1]\n",
        "\n",
        "loss_his, loss_indi_his, epoch_his = [], [], []\n",
        "\n",
        "for ep in range(epochs_phase1 + epochs_phase2 + 1):\n",
        "    if ep <= epochs_phase1:\n",
        "        loss_weight = loss_weight_phase1\n",
        "    else:\n",
        "        loss_weight = loss_weight_phase2\n",
        "\n",
        "    opt_state, params, params_l1,\\\n",
        "     params_l2, params_l3, opt_state_l1,\\\n",
        "      opt_state_l2, opt_state_l3 = update(opt_state, params,lambda_1, lambda_2, lambda_3, opt_state_l1,\\\n",
        "                                          opt_state_l2, opt_state_l3, t_i, t_c, IC, data_c1, data_mmyo, loss_weight)\n",
        "    # print loss and epoch info\n",
        "    if ep %(1000) ==0:\n",
        "      loss_val = loss_fun_total(params, params_l1, params_l2, params_l3, t_i, t_c, IC, data_c1, data_mmyo, loss_weight)\n",
        "      loss_val_individual = loss_fun(params, params_l1, params_l2, params_l3, t_i, t_c, IC, data_c1, data_mmyo)\n",
        "      epoch_his.append(ep)\n",
        "      loss_his.append(loss_val)\n",
        "      loss_indi_his.append(loss_val_individual)\n",
        "      # kb_updated = params[0]['kb']\n",
        "      # kg_updated = params[0]['kg']\n",
        "      print(f'Epoch={ep}, \\t loss={loss_val:.2e}, \\t loss_IC={loss_val_individual[0]:.2e}, \\t loss_d={loss_val_individual[1]:.2e}, \\t loss_Cmyo={loss_val_individual[5]:.2e}, \\t loss_e1={loss_val_individual[2]:.2e}, \\t loss_e2={loss_val_individual[3]:.2e}, \\t loss_e3={loss_val_individual[4]:.2e}')\n",
        "      # Append the values directly to the lists\n",
        "      # kb_values_list.append(kb_updated)\n",
        "      # kg_values_list.append(kg_updated)\n",
        "      # np.savez(f'/content/drive/MyDrive/params_100_{ep}.npz', *params)\n",
        "      # np.savez(f'/content/drive/MyDrive/params_extra_100_{ep}.npz', *params_extra)\n",
        "\n",
        "# end_time = time.time()\n",
        "\n",
        "# running_time = end_time - start_time\n",
        "# print(f\"Total running time: {running_time:.2f} seconds\")"
      ],
      "metadata": {
        "colab": {
          "base_uri": "https://localhost:8080/"
        },
        "id": "Ye2wt5aQO8dg",
        "outputId": "bd65042a-53b9-46ca-9d77-2882237a25e1"
      },
      "execution_count": 233,
      "outputs": [
        {
          "output_type": "stream",
          "name": "stdout",
          "text": [
            "Epoch=0, \t loss=2.56e+03, \t loss_IC=1.19e+03, \t loss_d=6.94e+02, \t loss_Cmyo=6.84e+01, \t loss_e1=1.07e-01, \t loss_e2=2.95e+00, \t loss_e3=1.56e-01\n",
            "Epoch=1000, \t loss=8.93e+02, \t loss_IC=5.76e+02, \t loss_d=2.77e+02, \t loss_Cmyo=4.13e+00, \t loss_e1=2.58e+03, \t loss_e2=3.90e+03, \t loss_e3=4.44e-01\n",
            "Epoch=2000, \t loss=7.21e+02, \t loss_IC=3.53e+02, \t loss_d=3.27e+02, \t loss_Cmyo=4.13e+00, \t loss_e1=6.81e+03, \t loss_e2=1.10e+04, \t loss_e3=1.69e+00\n",
            "Epoch=3000, \t loss=7.12e+02, \t loss_IC=3.02e+02, \t loss_d=3.69e+02, \t loss_Cmyo=4.14e+00, \t loss_e1=8.15e+03, \t loss_e2=1.30e+04, \t loss_e3=1.36e+00\n",
            "Epoch=4000, \t loss=7.12e+02, \t loss_IC=2.98e+02, \t loss_d=3.73e+02, \t loss_Cmyo=4.14e+00, \t loss_e1=8.27e+03, \t loss_e2=1.31e+04, \t loss_e3=1.32e+00\n",
            "Epoch=5000, \t loss=4.01e+01, \t loss_IC=3.20e+01, \t loss_d=8.06e+00, \t loss_Cmyo=3.35e-03, \t loss_e1=4.74e+02, \t loss_e2=2.15e+03, \t loss_e3=3.95e+01\n",
            "Epoch=6000, \t loss=1.20e+00, \t loss_IC=9.34e-01, \t loss_d=2.60e-01, \t loss_Cmyo=2.41e-04, \t loss_e1=6.17e+02, \t loss_e2=2.47e+03, \t loss_e3=3.79e+01\n",
            "Epoch=7000, \t loss=1.32e-02, \t loss_IC=1.10e-02, \t loss_d=6.84e-04, \t loss_Cmyo=1.53e-04, \t loss_e1=7.31e+02, \t loss_e2=2.75e+03, \t loss_e3=3.87e+01\n",
            "Epoch=8000, \t loss=9.78e-03, \t loss_IC=8.20e-03, \t loss_d=1.40e-04, \t loss_Cmyo=1.43e-04, \t loss_e1=7.20e+02, \t loss_e2=2.72e+03, \t loss_e3=3.92e+01\n",
            "Epoch=9000, \t loss=9.77e-03, \t loss_IC=8.21e-03, \t loss_d=1.32e-04, \t loss_Cmyo=1.43e-04, \t loss_e1=7.22e+02, \t loss_e2=2.73e+03, \t loss_e3=3.94e+01\n",
            "Epoch=10000, \t loss=9.76e-03, \t loss_IC=8.21e-03, \t loss_d=1.23e-04, \t loss_Cmyo=1.43e-04, \t loss_e1=7.28e+02, \t loss_e2=2.75e+03, \t loss_e3=3.97e+01\n",
            "Epoch=11000, \t loss=9.97e+01, \t loss_IC=2.64e+01, \t loss_d=2.08e+01, \t loss_Cmyo=1.13e+00, \t loss_e1=1.79e+01, \t loss_e2=2.92e+01, \t loss_e3=4.29e+00\n",
            "Epoch=12000, \t loss=1.54e+01, \t loss_IC=5.08e+00, \t loss_d=3.40e+00, \t loss_Cmyo=1.27e-01, \t loss_e1=3.34e+00, \t loss_e2=1.99e+00, \t loss_e3=1.48e+00\n",
            "Epoch=13000, \t loss=6.10e+00, \t loss_IC=9.41e-01, \t loss_d=3.03e+00, \t loss_Cmyo=5.52e-02, \t loss_e1=7.83e-01, \t loss_e2=3.16e-01, \t loss_e3=9.81e-01\n",
            "Epoch=14000, \t loss=4.30e+00, \t loss_IC=2.11e-01, \t loss_d=2.74e+00, \t loss_Cmyo=2.79e-02, \t loss_e1=4.95e-01, \t loss_e2=1.13e-01, \t loss_e3=7.11e-01\n",
            "Epoch=15000, \t loss=3.96e+00, \t loss_IC=1.23e-01, \t loss_d=2.64e+00, \t loss_Cmyo=3.01e-02, \t loss_e1=4.40e-01, \t loss_e2=9.67e-02, \t loss_e3=6.35e-01\n",
            "Epoch=16000, \t loss=3.82e+00, \t loss_IC=1.08e-01, \t loss_d=2.59e+00, \t loss_Cmyo=3.20e-02, \t loss_e1=4.20e-01, \t loss_e2=9.21e-02, \t loss_e3=5.78e-01\n",
            "Epoch=17000, \t loss=3.56e+00, \t loss_IC=9.66e-02, \t loss_d=2.54e+00, \t loss_Cmyo=3.38e-02, \t loss_e1=4.11e-01, \t loss_e2=4.61e-02, \t loss_e3=4.32e-01\n",
            "Epoch=18000, \t loss=3.38e+00, \t loss_IC=8.43e-02, \t loss_d=2.47e+00, \t loss_Cmyo=3.27e-02, \t loss_e1=3.77e-01, \t loss_e2=3.89e-02, \t loss_e3=3.76e-01\n",
            "Epoch=19000, \t loss=3.06e+00, \t loss_IC=6.83e-02, \t loss_d=2.40e+00, \t loss_Cmyo=3.85e-02, \t loss_e1=3.39e-01, \t loss_e2=4.61e-02, \t loss_e3=1.68e-01\n",
            "Epoch=20000, \t loss=2.86e+00, \t loss_IC=5.97e-02, \t loss_d=2.34e+00, \t loss_Cmyo=4.41e-02, \t loss_e1=3.16e-01, \t loss_e2=6.04e-02, \t loss_e3=4.29e-02\n",
            "Epoch=21000, \t loss=2.81e+00, \t loss_IC=5.32e-02, \t loss_d=2.30e+00, \t loss_Cmyo=4.44e-02, \t loss_e1=3.07e-01, \t loss_e2=6.97e-02, \t loss_e3=4.06e-02\n",
            "Epoch=22000, \t loss=2.78e+00, \t loss_IC=4.92e-02, \t loss_d=2.27e+00, \t loss_Cmyo=4.32e-02, \t loss_e1=3.06e-01, \t loss_e2=7.22e-02, \t loss_e3=4.20e-02\n",
            "Epoch=23000, \t loss=2.75e+00, \t loss_IC=4.67e-02, \t loss_d=2.24e+00, \t loss_Cmyo=4.15e-02, \t loss_e1=3.09e-01, \t loss_e2=6.94e-02, \t loss_e3=4.16e-02\n",
            "Epoch=24000, \t loss=2.72e+00, \t loss_IC=4.39e-02, \t loss_d=2.22e+00, \t loss_Cmyo=3.97e-02, \t loss_e1=3.09e-01, \t loss_e2=6.63e-02, \t loss_e3=4.01e-02\n",
            "Epoch=25000, \t loss=2.69e+00, \t loss_IC=4.09e-02, \t loss_d=2.20e+00, \t loss_Cmyo=3.78e-02, \t loss_e1=3.07e-01, \t loss_e2=6.23e-02, \t loss_e3=3.77e-02\n",
            "Epoch=26000, \t loss=2.66e+00, \t loss_IC=3.82e-02, \t loss_d=2.19e+00, \t loss_Cmyo=3.58e-02, \t loss_e1=3.05e-01, \t loss_e2=5.68e-02, \t loss_e3=3.44e-02\n",
            "Epoch=27000, \t loss=2.49e+00, \t loss_IC=9.21e-03, \t loss_d=2.09e+00, \t loss_Cmyo=4.57e-02, \t loss_e1=2.32e-01, \t loss_e2=6.93e-02, \t loss_e3=3.84e-02\n",
            "Epoch=28000, \t loss=2.33e+00, \t loss_IC=1.53e-03, \t loss_d=2.09e+00, \t loss_Cmyo=2.88e-02, \t loss_e1=1.56e-01, \t loss_e2=3.89e-02, \t loss_e3=2.25e-02\n",
            "Epoch=29000, \t loss=2.29e+00, \t loss_IC=9.76e-04, \t loss_d=2.09e+00, \t loss_Cmyo=1.32e-02, \t loss_e1=1.39e-01, \t loss_e2=2.87e-02, \t loss_e3=1.24e-02\n",
            "Epoch=30000, \t loss=2.26e+00, \t loss_IC=1.53e-03, \t loss_d=2.07e+00, \t loss_Cmyo=8.63e-03, \t loss_e1=1.41e-01, \t loss_e2=2.45e-02, \t loss_e3=9.97e-03\n",
            "Epoch=31000, \t loss=2.25e+00, \t loss_IC=1.58e-03, \t loss_d=2.04e+00, \t loss_Cmyo=7.56e-03, \t loss_e1=1.56e-01, \t loss_e2=2.73e-02, \t loss_e3=1.02e-02\n",
            "Epoch=32000, \t loss=2.22e+00, \t loss_IC=1.59e-03, \t loss_d=2.04e+00, \t loss_Cmyo=6.69e-03, \t loss_e1=1.39e-01, \t loss_e2=2.77e-02, \t loss_e3=1.01e-02\n",
            "Epoch=33000, \t loss=2.17e+00, \t loss_IC=1.66e-03, \t loss_d=1.98e+00, \t loss_Cmyo=6.54e-03, \t loss_e1=1.56e-01, \t loss_e2=1.90e-02, \t loss_e3=1.10e-02\n",
            "Epoch=34000, \t loss=2.14e+00, \t loss_IC=1.57e-03, \t loss_d=1.93e+00, \t loss_Cmyo=5.98e-03, \t loss_e1=1.66e-01, \t loss_e2=1.97e-02, \t loss_e3=8.78e-03\n",
            "Epoch=35000, \t loss=2.10e+00, \t loss_IC=1.61e-03, \t loss_d=1.90e+00, \t loss_Cmyo=5.17e-03, \t loss_e1=1.66e-01, \t loss_e2=2.04e-02, \t loss_e3=5.72e-03\n",
            "Epoch=36000, \t loss=1.93e+01, \t loss_IC=3.23e+00, \t loss_d=2.64e+00, \t loss_Cmyo=1.75e-01, \t loss_e1=9.37e+00, \t loss_e2=2.54e+00, \t loss_e3=1.38e+00\n",
            "Epoch=37000, \t loss=2.67e+00, \t loss_IC=5.47e-02, \t loss_d=2.04e+00, \t loss_Cmyo=3.02e-02, \t loss_e1=4.74e-01, \t loss_e2=2.82e-02, \t loss_e3=3.88e-02\n",
            "Epoch=38000, \t loss=2.26e+00, \t loss_IC=4.46e-03, \t loss_d=1.88e+00, \t loss_Cmyo=5.08e-02, \t loss_e1=2.64e-01, \t loss_e2=1.59e-02, \t loss_e3=4.36e-02\n",
            "Epoch=39000, \t loss=2.17e+00, \t loss_IC=5.84e-04, \t loss_d=1.89e+00, \t loss_Cmyo=2.18e-02, \t loss_e1=2.26e-01, \t loss_e2=1.35e-02, \t loss_e3=2.02e-02\n",
            "Epoch=40000, \t loss=2.15e+00, \t loss_IC=9.52e-04, \t loss_d=1.89e+00, \t loss_Cmyo=1.02e-02, \t loss_e1=2.18e-01, \t loss_e2=1.23e-02, \t loss_e3=1.27e-02\n"
          ]
        }
      ]
    },
    {
      "cell_type": "code",
      "source": [
        "\n",
        "# pred = fwd(params,t_dense)\n",
        "pred = fwd(params,t_dense)\n",
        "\n",
        "import matplotlib.pyplot as plt\n",
        "\n",
        "# Assuming t1, c1, t2, and mmyo are your data arrays\n",
        "\n",
        "plt.figure()\n",
        "Cmyo = (0.08 * pred[:,0] + 0.189 * pred[:,1] + 0.731 * pred[:,2])\n",
        "# Plotting c1\n",
        "plt.scatter(t1, c1, marker='o',color='red', label='Measured Plasma Concentration C1_data')\n",
        "plt.scatter(t2, mmyo, marker='o', color='black', label='Measured Myocardium Concentration Mmyo_data')\n",
        "\n",
        "plt.plot(t_dense, pred[:,0],'r',label='C1_PINN')\n",
        "# Plotting mmyo\n",
        "# plt.plot(t2, 0.189*mmyo, marker='s', label='mmyo')\n",
        "plt.plot(t_dense , Cmyo , 'k',label='Mmayo_PINN')\n",
        "\n",
        "\n",
        "plt.plot(t_dense,pred[:,1],'orange')\n",
        "plt.plot(t_dense,pred[:,2],'b')\n",
        "# Add labels and title\n",
        "plt.xlabel('t [hrs]')\n",
        "plt.legend()\n",
        "plt.grid(True)\n",
        "\n",
        "# Display the plot\n",
        "plt.show()\n"
      ],
      "metadata": {
        "colab": {
          "base_uri": "https://localhost:8080/",
          "height": 449
        },
        "id": "tZRCXsvEYgFB",
        "outputId": "6be21e19-ee79-41aa-d780-346e51892c7c"
      },
      "execution_count": 237,
      "outputs": [
        {
          "output_type": "display_data",
          "data": {
            "text/plain": [
              "<Figure size 640x480 with 1 Axes>"
            ],
            "image/png": "[encoded data removed]"
          },
          "metadata": {}
        }
      ]
    },
    {
      "cell_type": "code",
      "source": [
        "import numpy as np\n",
        "# Data for Myocardium Concentration\n",
        "t_label2 = [[0], [0.176767], [0.67676]]\n",
        "t2 = np.array([x[0] for x in t_label2])\n",
        "Mmyo = np.array([4.85981, 8.14641, 9.68847])\n",
        "\n",
        "# Given values\n",
        "C1 = 59\n",
        "C2 = 0\n",
        "C3 = 0\n",
        "\n",
        "# Coefficients\n",
        "coeff_C1 = 0.08\n",
        "coeff_C2 = 0.189\n",
        "coeff_C3 = 0.731\n",
        "\n",
        "# Computing Cmyo at t = 0\n",
        "Cmyo_0 = coeff_C1 * C1 + coeff_C2 * C2 + coeff_C3 * C3\n",
        "\n",
        "print(f'Mmayo * Rmyo - Cmyo ≈ 0 at t = 0 ==>  {Mmyo[0]} - {Cmyo_0} - !=0  ')\n"
      ],
      "metadata": {
        "colab": {
          "base_uri": "https://localhost:8080/"
        },
        "id": "NfODkzGPOMm6",
        "outputId": "d9aac6f5-6199-4528-c99e-39e21abfbe63"
      },
      "execution_count": 225,
      "outputs": [
        {
          "output_type": "stream",
          "name": "stdout",
          "text": [
            "Mmayo * Rmyo - Cmyo ≈ 0 at t = 0 ==>  4.85981 - 4.72 - !=0  \n"
          ]
        }
      ]
    },
    {
      "cell_type": "code",
      "source": [
        "# Given values\n",
        "C1_067 = 10.155\n",
        "Cmyo = 9.688\n",
        "C3 = 10\n",
        "\n",
        "# Compute C2(0.67)\n",
        "C2_067 = (Cmyo - 0.08 * C1_067 - 0.731 * C3)\n",
        "\n",
        "print(\"C2(0.67) =\", C2_067)\n"
      ],
      "metadata": {
        "colab": {
          "base_uri": "https://localhost:8080/"
        },
        "id": "FJld8aZeUrSY",
        "outputId": "f7888b0c-fdc9-43e2-9fa1-a796effdad9c"
      },
      "execution_count": 220,
      "outputs": [
        {
          "output_type": "stream",
          "name": "stdout",
          "text": [
            "C2(0.67) = 8.283597883597887\n"
          ]
        }
      ]
    },
    {
      "cell_type": "markdown",
      "source": [
        "#**frac**"
      ],
      "metadata": {
        "id": "yF2o0xUzo4zC"
      }
    },
    {
      "cell_type": "code",
      "source": [
        "import jax.numpy as jnp\n",
        "from jax import grad, jit, vmap\n",
        "# from jax.experimental.optimizers import adam\n",
        "\n",
        "import numpy as np\n",
        "import time\n",
        "\n",
        "def initialize_NN(layers):\n",
        "    params = {'W': [], 'b': []}\n",
        "    num_layers = len(layers)\n",
        "    for l in range(0, num_layers-1):\n",
        "        W = jnp.array(np.random.randn(layers[l], layers[l+1]), dtype=jnp.float32)\n",
        "        b = jnp.zeros((1, layers[l+1]), dtype=jnp.float32)\n",
        "        params['W'].append(W)\n",
        "        params['b'].append(b)\n",
        "    return params\n",
        "\n",
        "def neural_net(params, X):\n",
        "    num_layers = len(params['W'])\n",
        "    H = 2.0 * (X - lb) / (ub - lb) - 1.0\n",
        "    for l in range(num_layers - 1):\n",
        "        W = params['W'][l]\n",
        "        b = params['b'][l]\n",
        "        H = jnp.tanh(jnp.dot(H, W) + b)\n",
        "    W = params['W'][-1]\n",
        "    b = params['b'][-1]\n",
        "    Y = jnp.dot(H, W) + b\n",
        "    return Y\n",
        "\n",
        "def net_Uequ(x):\n",
        "    alpha = 1.7\n",
        "    N = 128\n",
        "    dx1 = x / N\n",
        "    dx2 = (1 - x) / N\n",
        "\n",
        "    g_coeff = jnp.zeros(N + 1, dtype=jnp.float64)\n",
        "    g_coeff = jax.ops.index_update(g_coeff, 0, 1.0)\n",
        "    for i in range(N):\n",
        "        g_coeff = jax.ops.index_update(g_coeff, i+1, ((i-alpha)/(i+1)) * g_coeff[i])\n",
        "\n",
        "    u1 = 0\n",
        "    for k in range(0, N+1):\n",
        "        u1 += g_coeff[k] * neural_net(params, x - (k-1)*dx1) * (x - (k-1)*dx1) * (1 - (x - (k-1)*dx1))\n",
        "\n",
        "    u2 = 0\n",
        "    for k2 in range(0, N+1):\n",
        "        u2 += g_coeff[k2] * neural_net(params, x + (k2-1)*dx2) * (x + (k2-1)*dx2) * (1 - (x + (k2-1)*dx2))\n",
        "\n",
        "    f = (1 / (2 * jnp.cos(0.5 * jnp.pi * 1.7))) * ((jnp.math.gamma(4) / jnp.math.gamma(4 - 1.7)) * (x**(3 - 1.7) + (1 - x)**(3 - 1.7)) - \\\n",
        "                                           3 * (jnp.math.gamma(5) / jnp.math.gamma(5 - 1.7)) * (x**(4 - 1.7) + (1 - x)**(4 - 1.7)) + \\\n",
        "                                           3 * (jnp.math.gamma(6) / jnp.math.gamma(6 - 1.7)) * (x**(5 - 1.7) + (1 - x)**(5 - 1.7)) - \\\n",
        "                                           (jnp.math.gamma(7) / jnp.math.gamma(7 - 1.7)) * (x**(6 - 1.7) + (1 - x)**(6 - 1.7)))\n",
        "\n",
        "    Uu = (1 / (2 * jnp.cos(0.5 * jnp.pi * alpha))) * ((1 / (dx1**alpha)) * u1 + (1 / (dx2**alpha)) * u2) - f\n",
        "\n",
        "    return Uu\n",
        "\n",
        "def net_Uout(x):\n",
        "    U1 = neural_net(params, x) * x * (1 - x)\n",
        "    return U1\n",
        "\n",
        "def loss(params, x_data, x_gg_data):\n",
        "    Uequ_pred = net_Uequ(x_data)\n",
        "    Ugg_pred = net_Uout(x_gg_data)\n",
        "\n",
        "    u_star2 = x_gg_data**3 * (1 - x_gg_data)**3\n",
        "\n",
        "    loss_equ = jnp.sum(Uequ_pred**2)\n",
        "    loss_gg = jnp.sum((Ugg_pred - u_star2)**2)\n",
        "\n",
        "    return loss_equ + 15 * loss_gg\n",
        "\n",
        "# Define the gradient of the loss function\n",
        "grad_loss = grad(loss)\n",
        "\n",
        "# JAX optimizer\n",
        "def train(params, x_data, x_gg_data, num_epochs, learning_rate):\n",
        "    opt_init, opt_update, get_params = optax.adam(learning_rate)\n",
        "    opt_state = opt_init(params)\n",
        "\n",
        "    def step(i, opt_state):\n",
        "        params = get_params(opt_state)\n",
        "        return opt_update(i, grad_loss(params, x_data, x_gg_data), opt_state)\n",
        "\n",
        "    for epoch in range(num_epochs):\n",
        "        opt_state = jit(step)(epoch, opt_state)\n",
        "\n",
        "    return get_params(opt_state)\n",
        "\n",
        "if __name__ == \"__main__\":\n",
        "    layers = [1, 20, 20, 20, 20, 1]\n",
        "    lb = jnp.array([0.0], dtype=jnp.float32)\n",
        "    ub = jnp.array([1.0], dtype=jnp.float32)\n",
        "\n",
        "    x_f = jnp.array([[0.5], [0.75]], dtype=jnp.float32)\n",
        "    x_gg = jnp.array([[0.6501465], [0.9001465]], dtype=jnp.float32)\n",
        "\n",
        "    params = initialize_NN(layers)\n",
        "\n",
        "    num_epochs = 100000\n",
        "    learning_rate = 0.001\n",
        "\n",
        "    params = train(params, x_f, x_gg, num_epochs, learning_rate)\n",
        "\n",
        "    U1_pred = net_Uout(x_gg)\n",
        "\n",
        "    u = x_gg**2\n",
        "    uu = u * x_gg\n",
        "    w = (1 - x_gg)**2\n",
        "    ww = w * (1 - x_gg)\n",
        "    u_star = uu * ww\n",
        "\n",
        "    error_u = jnp.linalg.norm(u_star - U1_pred, 2) / jnp.linalg.norm(u_star, 2)\n",
        "\n",
        "    print('U:', U1_pred)\n",
        "    print('error:', error_u)\n"
      ],
      "metadata": {
        "colab": {
          "base_uri": "https://localhost:8080/",
          "height": 383
        },
        "id": "LawhIq3lpFS_",
        "outputId": "5241e617-49e1-42f9-b36d-580902688b13"
      },
      "execution_count": 13,
      "outputs": [
        {
          "output_type": "error",
          "ename": "ValueError",
          "evalue": "ignored",
          "traceback": [
            "\u001b[0;31m---------------------------------------------------------------------------\u001b[0m",
            "\u001b[0;31mValueError\u001b[0m                                Traceback (most recent call last)",
            "\u001b[0;32m<ipython-input-13-73854d9191d6>\u001b[0m in \u001b[0;36m<cell line: 90>\u001b[0;34m()\u001b[0m\n\u001b[1;32m    101\u001b[0m     \u001b[0mlearning_rate\u001b[0m \u001b[0;34m=\u001b[0m \u001b[0;36m0.001\u001b[0m\u001b[0;34m\u001b[0m\u001b[0;34m\u001b[0m\u001b[0m\n\u001b[1;32m    102\u001b[0m \u001b[0;34m\u001b[0m\u001b[0m\n\u001b[0;32m--> 103\u001b[0;31m     \u001b[0mparams\u001b[0m \u001b[0;34m=\u001b[0m \u001b[0mtrain\u001b[0m\u001b[0;34m(\u001b[0m\u001b[0mparams\u001b[0m\u001b[0;34m,\u001b[0m \u001b[0mx_f\u001b[0m\u001b[0;34m,\u001b[0m \u001b[0mx_gg\u001b[0m\u001b[0;34m,\u001b[0m \u001b[0mnum_epochs\u001b[0m\u001b[0;34m,\u001b[0m \u001b[0mlearning_rate\u001b[0m\u001b[0;34m)\u001b[0m\u001b[0;34m\u001b[0m\u001b[0;34m\u001b[0m\u001b[0m\n\u001b[0m\u001b[1;32m    104\u001b[0m \u001b[0;34m\u001b[0m\u001b[0m\n\u001b[1;32m    105\u001b[0m     \u001b[0mU1_pred\u001b[0m \u001b[0;34m=\u001b[0m \u001b[0mnet_Uout\u001b[0m\u001b[0;34m(\u001b[0m\u001b[0mx_gg\u001b[0m\u001b[0;34m)\u001b[0m\u001b[0;34m\u001b[0m\u001b[0;34m\u001b[0m\u001b[0m\n",
            "\u001b[0;32m<ipython-input-13-73854d9191d6>\u001b[0m in \u001b[0;36mtrain\u001b[0;34m(params, x_data, x_gg_data, num_epochs, learning_rate)\u001b[0m\n\u001b[1;32m     76\u001b[0m \u001b[0;31m# JAX optimizer\u001b[0m\u001b[0;34m\u001b[0m\u001b[0;34m\u001b[0m\u001b[0m\n\u001b[1;32m     77\u001b[0m \u001b[0;32mdef\u001b[0m \u001b[0mtrain\u001b[0m\u001b[0;34m(\u001b[0m\u001b[0mparams\u001b[0m\u001b[0;34m,\u001b[0m \u001b[0mx_data\u001b[0m\u001b[0;34m,\u001b[0m \u001b[0mx_gg_data\u001b[0m\u001b[0;34m,\u001b[0m \u001b[0mnum_epochs\u001b[0m\u001b[0;34m,\u001b[0m \u001b[0mlearning_rate\u001b[0m\u001b[0;34m)\u001b[0m\u001b[0;34m:\u001b[0m\u001b[0;34m\u001b[0m\u001b[0;34m\u001b[0m\u001b[0m\n\u001b[0;32m---> 78\u001b[0;31m     \u001b[0mopt_init\u001b[0m\u001b[0;34m,\u001b[0m \u001b[0mopt_update\u001b[0m\u001b[0;34m,\u001b[0m \u001b[0mget_params\u001b[0m \u001b[0;34m=\u001b[0m \u001b[0moptax\u001b[0m\u001b[0;34m.\u001b[0m\u001b[0madam\u001b[0m\u001b[0;34m(\u001b[0m\u001b[0mlearning_rate\u001b[0m\u001b[0;34m)\u001b[0m\u001b[0;34m\u001b[0m\u001b[0;34m\u001b[0m\u001b[0m\n\u001b[0m\u001b[1;32m     79\u001b[0m     \u001b[0mopt_state\u001b[0m \u001b[0;34m=\u001b[0m \u001b[0mopt_init\u001b[0m\u001b[0;34m(\u001b[0m\u001b[0mparams\u001b[0m\u001b[0;34m)\u001b[0m\u001b[0;34m\u001b[0m\u001b[0;34m\u001b[0m\u001b[0m\n\u001b[1;32m     80\u001b[0m \u001b[0;34m\u001b[0m\u001b[0m\n",
            "\u001b[0;31mValueError\u001b[0m: not enough values to unpack (expected 3, got 2)"
          ]
        }
      ]
    }
  ]
}