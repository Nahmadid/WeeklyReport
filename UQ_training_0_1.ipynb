{
  "nbformat": 4,
  "nbformat_minor": 0,
  "metadata": {
    "colab": {
      "provenance": [],
      "machine_shape": "hm",
      "include_colab_link": true
    },
    "kernelspec": {
      "name": "python3",
      "display_name": "Python 3"
    },
    "language_info": {
      "name": "python"
    }
  },
  "cells": [
    {
      "cell_type": "markdown",
      "metadata": {
        "id": "view-in-github",
        "colab_type": "text"
      },
      "source": [
        "<a href=\"https://colab.research.google.com/github/Nahmadid/WeeklyReport/blob/main/UQ_training_0_1.ipynb\" target=\"_parent\"><img src=\"https://colab.research.google.com/assets/colab-badge.svg\" alt=\"Open In Colab\"/></a>"
      ]
    },
    {
      "cell_type": "code",
      "execution_count": null,
      "metadata": {
        "id": "vt3cnlzkPUx4"
      },
      "outputs": [],
      "source": [
        "import tensorflow as tf"
      ]
    },
    {
      "cell_type": "code",
      "source": [
        "import tensorflow_probability as tfp"
      ],
      "metadata": {
        "id": "3KcQYd7ASVUk"
      },
      "execution_count": null,
      "outputs": []
    },
    {
      "cell_type": "code",
      "source": [
        "!git clone https://github.com/Crunch-UQ4MI/neuraluq.git\n"
      ],
      "metadata": {
        "colab": {
          "base_uri": "https://localhost:8080/"
        },
        "id": "kLx5JOokSdi2",
        "outputId": "22bd3f68-1a33-46e5-c1fa-6e98f0dbf78f"
      },
      "execution_count": null,
      "outputs": [
        {
          "output_type": "stream",
          "name": "stdout",
          "text": [
            "fatal: destination path 'neuraluq' already exists and is not an empty directory.\n"
          ]
        }
      ]
    },
    {
      "cell_type": "code",
      "source": [
        "tf.__version__"
      ],
      "metadata": {
        "colab": {
          "base_uri": "https://localhost:8080/",
          "height": 36
        },
        "id": "l2PZQbZSSYyu",
        "outputId": "159c9b42-1084-4588-d3eb-f6825c2676f1"
      },
      "execution_count": null,
      "outputs": [
        {
          "output_type": "execute_result",
          "data": {
            "text/plain": [
              "'2.13.0'"
            ],
            "application/vnd.google.colaboratory.intrinsic+json": {
              "type": "string"
            }
          },
          "metadata": {},
          "execution_count": 49
        }
      ]
    },
    {
      "cell_type": "code",
      "source": [
        "tfp.__version__"
      ],
      "metadata": {
        "colab": {
          "base_uri": "https://localhost:8080/",
          "height": 36
        },
        "id": "_eXcSrsDSZr7",
        "outputId": "ed994c40-92ec-4cff-8ba2-a3939949586e"
      },
      "execution_count": null,
      "outputs": [
        {
          "output_type": "execute_result",
          "data": {
            "text/plain": [
              "'0.20.1'"
            ],
            "application/vnd.google.colaboratory.intrinsic+json": {
              "type": "string"
            }
          },
          "metadata": {},
          "execution_count": 50
        }
      ]
    },
    {
      "cell_type": "code",
      "source": [
        "import neuraluq.neuraluq as neuq"
      ],
      "metadata": {
        "id": "iTs202ObScWo"
      },
      "execution_count": null,
      "outputs": []
    },
    {
      "cell_type": "code",
      "source": [
        "import neuraluq.neuraluq as neuq\n",
        "import neuraluq.neuraluq.variables as neuq_vars\n",
        "from neuraluq.neuraluq.config import tf\n",
        "\n",
        "import numpy as np\n",
        "import scipy.io as sio\n",
        "import matplotlib.pyplot as plt"
      ],
      "metadata": {
        "id": "37XHsGQJS-AK"
      },
      "execution_count": null,
      "outputs": []
    },
    {
      "cell_type": "markdown",
      "source": [
        "#**For pharmacokinetic problem**"
      ],
      "metadata": {
        "id": "amWUML3imXgj"
      }
    },
    {
      "cell_type": "code",
      "source": [
        "def load_data():\n",
        "    t_d = np.array([0, 1, 2, 4, 7, 14]).reshape([-1, 1])\n",
        "    Q1 = np.array([1, 0.582, 0.402, 0.389, 0.3884, 0.3880]).reshape([-1, 1])\n",
        "    Q2 = np.array([0, 0.418, 0.598, 0.611, 0.6115, 0.612]).reshape([-1, 1])\n",
        "    return t_d, Q1, Q2\n",
        "\n",
        "\n",
        "def sird(t, u, ft):\n",
        "\n",
        "    V1 = 254.5\n",
        "    V2 = 1000\n",
        "    f1 = 0.0\n",
        "\n",
        "    # Q1, Q2, ft = tf.split(u, 3, axis=-1)\n",
        "    Q1, Q2 = tf.split(u, 2, axis=-1)\n",
        "    ft = ft\n",
        "\n",
        "    # k = nn.softplus(ft)\n",
        "    k  = ft\n",
        "    Q1_t = tf.gradients(Q1, t)[0]\n",
        "    Q2_t = tf.gradients(Q2, t)[0]\n",
        "\n",
        "    f1 = Q1_t + k * (Q1/V1 - Q1/V2)- f1\n",
        "    f2 = Q2_t - k * (Q1/V1 - Q2/V2)\n",
        "    print(f1.shape, f2.shape)\n",
        "\n",
        "    return tf.concat([f1, f2], axis=-1)\n",
        "\n",
        "\n",
        "def scaling(inputs, a=1, b=0):\n",
        "    \"\"\"Applies linear transformation, i.e. a*inputs + b.\"\"\"\n",
        "    return a * inputs + b\n",
        "\n",
        "\n",
        "# def Samplable(t_u_train, u_train, t_f_train, f_train, noise, N, layers_u, layers_bgn):\n",
        "def Samplable(t_u_train, u_train, t_f_train, f_train, noise, layers_u, layers_ft):\n",
        "    # layers_beta = layers_gamma = layers_nu = layers_bgn\n",
        "    # build processes\n",
        "    input_scaling = lambda inputs: scaling(inputs, a=0.01)\n",
        "    process_u = neuq.process.Process(\n",
        "        surrogate=neuq.surrogates.FNN(\n",
        "            layers=layers_u,\n",
        "            input_transform=input_scaling,\n",
        "            output_transform=tf.math.softplus,  # to enforce positivity\n",
        "        ),\n",
        "        prior=neuq_vars.fnn.Samplable(layers=layers_u, mean=0, sigma=0.2),\n",
        "    )\n",
        "    process_ft = neuq.process.Process(\n",
        "        surrogate=neuq.surrogates.FNN(\n",
        "            layers=layers_ft,\n",
        "            input_transform=input_scaling,\n",
        "            output_transform=tf.math.softplus,  # to enforce positivity\n",
        "        ),\n",
        "        prior=neuq_vars.fnn.Samplable(layers=layers_ft, mean=0, sigma=0.2),\n",
        "    )\n",
        "\n",
        "    # build likelihood\n",
        "    likelihood_u = neuq.likelihoods.Normal(\n",
        "        inputs=t_u_train, targets=u_train, processes=[process_u,process_ft], sigma=noise,\n",
        "    )\n",
        "    # inputs=t_u_train, targets=u_train, processes=[process_u], sigma=noise, out_dims=[[0, 1]]\n",
        "    # print(f_train.shape, t_f_train.shape)\n",
        "\n",
        "    likelihood_f = neuq.likelihoods.Normal(\n",
        "        inputs=t_f_train,\n",
        "        targets=f_train,\n",
        "        processes=[process_u, process_ft],\n",
        "        pde=lambda *args: sird(*args),\n",
        "        sigma=0.02,\n",
        "    )\n",
        "    # build model\n",
        "    model = neuq.models.Model(\n",
        "        processes=[process_u, process_ft],\n",
        "        likelihoods=[likelihood_u, likelihood_f],\n",
        "    )\n",
        "    # assign and compile method\n",
        "    # Change the parameters to make the acceptance rate close to 0.6.\n",
        "    method = neuq.inferences.HMC(\n",
        "        num_samples=1000,\n",
        "        num_burnin=2000,\n",
        "        init_time_step=0.01,\n",
        "        leapfrog_step=100,\n",
        "        seed=666,\n",
        "    )\n",
        "    model.compile(method)\n",
        "    # obtain posterior samples\n",
        "    samples, results = model.run()\n",
        "    print(\"Acceptance rate: \", np.mean(results))\n",
        "\n",
        "    processes = [process_u, process_ft]\n",
        "    return processes, samples, model\n",
        "\n",
        "\n",
        "@neuq.utils.timer\n",
        "def Trainable(t_u_train, u_train, t_f_train, f_train, noise, layers_u, layers_ft):\n",
        "\n",
        "    # build processes\n",
        "    input_scaling = lambda inputs: scaling(inputs, a=0.01)\n",
        "    process_u = neuq.process.Process(\n",
        "        surrogate=neuq.surrogates.FNN(\n",
        "            layers=layers_u,\n",
        "            input_transform=input_scaling,\n",
        "            output_transform=tf.math.softplus,  # to enforce positivity\n",
        "        ),\n",
        "        posterior=neuq_vars.fnn.Trainable(layers=layers_u),\n",
        "    )\n",
        "    process_ft = neuq.process.Process(\n",
        "        surrogate=neuq.surrogates.FNN(\n",
        "            layers=layers_ft,\n",
        "            input_transform=input_scaling,\n",
        "            output_transform=tf.math.softplus,  # to enforce positivity\n",
        "        ),\n",
        "        posterior=neuq_vars.fnn.Trainable(layers=layers_ft),\n",
        "    )\n",
        "\n",
        "    # build losses\n",
        "    loss_u = neuq.likelihoods.MSE(\n",
        "        inputs=t_u_train, targets=u_train, processes=[process_u], multiplier=1.0,\n",
        "    )\n",
        "    loss_f = neuq.likelihoods.MSE(\n",
        "        inputs=t_f_train,\n",
        "        targets=f_train,\n",
        "        processes=[process_u, process_ft],\n",
        "        pde=lambda *args: sird(*args),\n",
        "        multiplier=1.0,\n",
        "    )\n",
        "    # build model\n",
        "    model = neuq.models.Model(\n",
        "        processes=[process_u, process_ft],\n",
        "        likelihoods=[loss_u, loss_f],\n",
        "    )\n",
        "    # assign and compile method\n",
        "    method = neuq.inferences.DEns(\n",
        "        num_samples=10, num_iterations=30000, optimizer=tf.train.AdamOptimizer(1e-3),\n",
        "    )\n",
        "    model.compile(method)\n",
        "    # obtain posterior samples\n",
        "    samples = model.run()\n",
        "\n",
        "    processes = [process_u, process_ft]\n",
        "    return processes, samples, model"
      ],
      "metadata": {
        "id": "M3fAF6BWlJoK"
      },
      "execution_count": null,
      "outputs": []
    },
    {
      "cell_type": "code",
      "source": [
        "t, Q1, Q2 = load_data()\n",
        "t_train, Q1_train, Q2_train = t, Q1, Q2\n",
        "t_f_train, f_train = t_train.copy(), np.zeros([Q1.shape[0], 2])\n",
        "t_test, Q1_test, Q2_test = t, Q1, Q2"
      ],
      "metadata": {
        "id": "DphlGMaupj8g"
      },
      "execution_count": null,
      "outputs": []
    },
    {
      "cell_type": "code",
      "source": [
        "scale = 1\n",
        "# N = (n / scale).astype(np.float32)\n",
        "Q1_train, Q2_train = Q1_train / scale, Q2_train / scale\n",
        "# t_train, I_train, R_train, D_train = t_train[::4], I_train[::4], R_train[::4], D_train[::4]\n",
        "u_train = np.concatenate([Q1_train, Q2_train], axis=-1)\n",
        "\n",
        "layers_u = [1, 50, 50, 50, 2]  # layers for SIRD\n",
        "layers_ft = [1, 20,20, 1]  # layers for ft\n",
        "noise = 0.1"
      ],
      "metadata": {
        "id": "wYsHwK9YUB5_"
      },
      "execution_count": null,
      "outputs": []
    },
    {
      "cell_type": "code",
      "source": [
        "# processes, samples, model = Samplable(\n",
        "#     t_train, u_train, t_f_train, f_train, noise, layers_u, layers_ft,\n",
        "# )\n",
        "processes, samples, model = Trainable(\n",
        "    t_train, u_train, t_f_train, f_train, noise, layers_u, layers_ft,\n",
        ")\n"
      ],
      "metadata": {
        "colab": {
          "base_uri": "https://localhost:8080/"
        },
        "id": "tYMdWzsVt_zp",
        "outputId": "150b66fe-36a1-4a45-9c93-fd3b3e0309a8"
      },
      "execution_count": null,
      "outputs": [
        {
          "output_type": "stream",
          "name": "stdout",
          "text": [
            "Supporting backend tensorflow.compat.v1\n",
            "\n",
            "Compiling a Ensemble method\n",
            "\n",
            "(6, 1) (6, 1)\n",
            "Generating 0th sample by deep ensemble...\n",
            "Iteration:  0 , loss:  0.08694139\n",
            "Iteration:  1000 , loss:  0.0075312257\n",
            "Iteration:  2000 , loss:  0.0007734875\n",
            "Iteration:  3000 , loss:  0.00027101344\n",
            "Iteration:  4000 , loss:  1.1485639e-05\n",
            "Iteration:  5000 , loss:  2.4874764e-06\n",
            "Iteration:  6000 , loss:  1.6166778e-06\n",
            "Iteration:  7000 , loss:  1.2344229e-06\n",
            "Iteration:  8000 , loss:  1.1386234e-06\n",
            "Iteration:  9000 , loss:  3.8351377e-06\n",
            "Iteration:  10000 , loss:  3.1599945e-06\n",
            "Iteration:  11000 , loss:  5.3729e-07\n",
            "Iteration:  12000 , loss:  2.910599e-06\n",
            "Iteration:  13000 , loss:  4.473041e-06\n",
            "Iteration:  14000 , loss:  1.6088959e-06\n",
            "Iteration:  15000 , loss:  1.0234198e-06\n",
            "Iteration:  16000 , loss:  8.148313e-07\n",
            "Iteration:  17000 , loss:  7.042053e-07\n",
            "Iteration:  18000 , loss:  6.065771e-07\n",
            "Iteration:  19000 , loss:  5.154472e-07\n",
            "Iteration:  20000 , loss:  4.4076856e-07\n",
            "Iteration:  21000 , loss:  5.669225e-07\n",
            "Iteration:  22000 , loss:  1.679001e-06\n",
            "Iteration:  23000 , loss:  3.7253915e-07\n",
            "Iteration:  24000 , loss:  6.019641e-07\n",
            "Iteration:  25000 , loss:  2.5286556e-07\n",
            "Iteration:  26000 , loss:  3.8758708e-07\n",
            "Iteration:  27000 , loss:  2.634324e-07\n",
            "Iteration:  28000 , loss:  2.3214145e-07\n",
            "Iteration:  29000 , loss:  2.1330868e-07\n",
            "Generating 1th sample by deep ensemble...\n",
            "Iteration:  0 , loss:  0.08532119\n",
            "Iteration:  1000 , loss:  0.0032341238\n",
            "Iteration:  2000 , loss:  0.0004868281\n",
            "Iteration:  3000 , loss:  0.00020559736\n",
            "Iteration:  4000 , loss:  1.6050473e-05\n",
            "Iteration:  5000 , loss:  6.499155e-06\n",
            "Iteration:  6000 , loss:  1.1452708e-05\n",
            "Iteration:  7000 , loss:  1.1698226e-05\n",
            "Iteration:  8000 , loss:  7.059029e-06\n",
            "Iteration:  9000 , loss:  4.6290015e-06\n",
            "Iteration:  10000 , loss:  3.0946574e-06\n",
            "Iteration:  11000 , loss:  2.2926922e-06\n",
            "Iteration:  12000 , loss:  2.1938667e-06\n",
            "Iteration:  13000 , loss:  1.2549963e-06\n",
            "Iteration:  14000 , loss:  1.9628008e-06\n",
            "Iteration:  15000 , loss:  0.0009154374\n",
            "Iteration:  16000 , loss:  1.2730456e-05\n",
            "Iteration:  17000 , loss:  7.528584e-06\n",
            "Iteration:  18000 , loss:  4.8204515e-06\n",
            "Iteration:  19000 , loss:  3.039071e-06\n",
            "Iteration:  20000 , loss:  1.477801e-06\n",
            "Iteration:  21000 , loss:  1.3372668e-06\n",
            "Iteration:  22000 , loss:  6.940155e-07\n",
            "Iteration:  23000 , loss:  6.808649e-06\n",
            "Iteration:  24000 , loss:  5.098341e-07\n",
            "Iteration:  25000 , loss:  4.3344127e-07\n",
            "Iteration:  26000 , loss:  3.9383474e-07\n",
            "Iteration:  27000 , loss:  3.6623408e-07\n",
            "Iteration:  28000 , loss:  3.4283553e-07\n",
            "Iteration:  29000 , loss:  3.221623e-07\n",
            "Generating 2th sample by deep ensemble...\n",
            "Iteration:  0 , loss:  0.08190387\n",
            "Iteration:  1000 , loss:  0.0055852514\n",
            "Iteration:  2000 , loss:  0.00047001403\n",
            "Iteration:  3000 , loss:  0.00023334956\n",
            "Iteration:  4000 , loss:  8.862137e-06\n",
            "Iteration:  5000 , loss:  2.294421e-06\n",
            "Iteration:  6000 , loss:  1.4091113e-06\n",
            "Iteration:  7000 , loss:  8.044354e-07\n",
            "Iteration:  8000 , loss:  1.8706285e-06\n",
            "Iteration:  9000 , loss:  5.8405965e-07\n",
            "Iteration:  10000 , loss:  5.0404566e-07\n",
            "Iteration:  11000 , loss:  3.5361052e-07\n",
            "Iteration:  12000 , loss:  3.171328e-07\n",
            "Iteration:  13000 , loss:  8.767751e-07\n",
            "Iteration:  14000 , loss:  6.1748744e-07\n",
            "Iteration:  15000 , loss:  3.9686497e-06\n",
            "Iteration:  16000 , loss:  3.0646706e-07\n",
            "Iteration:  17000 , loss:  2.7123122e-07\n",
            "Iteration:  18000 , loss:  5.8542224e-07\n",
            "Iteration:  19000 , loss:  7.2685434e-06\n",
            "Iteration:  20000 , loss:  6.775041e-07\n",
            "Iteration:  21000 , loss:  1.2801429e-06\n",
            "Iteration:  22000 , loss:  5.070399e-07\n",
            "Iteration:  23000 , loss:  5.33184e-06\n",
            "Iteration:  24000 , loss:  3.2764916e-07\n",
            "Iteration:  25000 , loss:  1.276515e-06\n",
            "Iteration:  26000 , loss:  1.941501e-06\n",
            "Iteration:  27000 , loss:  8.259823e-07\n",
            "Iteration:  28000 , loss:  1.0740136e-07\n",
            "Iteration:  29000 , loss:  8.053872e-07\n",
            "Generating 3th sample by deep ensemble...\n",
            "Iteration:  0 , loss:  0.08439438\n",
            "Iteration:  1000 , loss:  0.005376624\n",
            "Iteration:  2000 , loss:  0.00067845546\n",
            "Iteration:  3000 , loss:  0.0001623887\n",
            "Iteration:  4000 , loss:  2.8497932e-06\n",
            "Iteration:  5000 , loss:  2.0590683e-06\n",
            "Iteration:  6000 , loss:  1.478635e-06\n",
            "Iteration:  7000 , loss:  1.0756768e-06\n",
            "Iteration:  8000 , loss:  9.743194e-07\n",
            "Iteration:  9000 , loss:  9.4867323e-07\n",
            "Iteration:  10000 , loss:  8.600932e-07\n",
            "Iteration:  11000 , loss:  0.005813618\n",
            "Iteration:  12000 , loss:  0.0013472624\n",
            "Iteration:  13000 , loss:  0.00040315022\n",
            "Iteration:  14000 , loss:  7.53373e-05\n",
            "Iteration:  15000 , loss:  1.57718e-05\n",
            "Iteration:  16000 , loss:  1.056522e-05\n",
            "Iteration:  17000 , loss:  9.662175e-06\n",
            "Iteration:  18000 , loss:  4.379383e-06\n",
            "Iteration:  19000 , loss:  0.00208552\n",
            "Iteration:  20000 , loss:  4.6354326e-06\n",
            "Iteration:  21000 , loss:  3.827464e-06\n",
            "Iteration:  22000 , loss:  2.905271e-06\n",
            "Iteration:  23000 , loss:  4.918824e-06\n",
            "Iteration:  24000 , loss:  2.0480113e-06\n",
            "Iteration:  25000 , loss:  6.347934e-07\n",
            "Iteration:  26000 , loss:  4.2254302e-07\n",
            "Iteration:  27000 , loss:  8.4283647e-07\n",
            "Iteration:  28000 , loss:  4.0844752e-05\n",
            "Iteration:  29000 , loss:  1.9192742e-06\n",
            "Generating 4th sample by deep ensemble...\n",
            "Iteration:  0 , loss:  0.08649055\n",
            "Iteration:  1000 , loss:  0.0032851403\n",
            "Iteration:  2000 , loss:  0.0005618448\n",
            "Iteration:  3000 , loss:  0.00032903263\n",
            "Iteration:  4000 , loss:  1.6837432e-05\n",
            "Iteration:  5000 , loss:  7.942379e-05\n",
            "Iteration:  6000 , loss:  7.519714e-06\n",
            "Iteration:  7000 , loss:  6.1643314e-06\n",
            "Iteration:  8000 , loss:  4.983973e-06\n",
            "Iteration:  9000 , loss:  3.832876e-06\n",
            "Iteration:  10000 , loss:  3.084065e-06\n",
            "Iteration:  11000 , loss:  5.003909e-06\n",
            "Iteration:  12000 , loss:  2.6574417e-06\n",
            "Iteration:  13000 , loss:  1.9184172e-06\n",
            "Iteration:  14000 , loss:  1.5546682e-06\n",
            "Iteration:  15000 , loss:  1.5393775e-06\n",
            "Iteration:  16000 , loss:  1.1887596e-06\n",
            "Iteration:  17000 , loss:  7.656124e-06\n",
            "Iteration:  18000 , loss:  8.913041e-06\n",
            "Iteration:  19000 , loss:  7.4833224e-07\n",
            "Iteration:  20000 , loss:  7.0960954e-07\n",
            "Iteration:  21000 , loss:  8.2487793e-07\n",
            "Iteration:  22000 , loss:  4.867244e-07\n",
            "Iteration:  23000 , loss:  4.2567788e-07\n",
            "Iteration:  24000 , loss:  7.188194e-06\n",
            "Iteration:  25000 , loss:  5.0017053e-07\n",
            "Iteration:  26000 , loss:  3.5757063e-07\n",
            "Iteration:  27000 , loss:  3.178709e-07\n",
            "Iteration:  28000 , loss:  1.2898613e-06\n",
            "Iteration:  29000 , loss:  1.1327029e-06\n",
            "Generating 5th sample by deep ensemble...\n",
            "Iteration:  0 , loss:  0.083521195\n",
            "Iteration:  1000 , loss:  0.0067459317\n",
            "Iteration:  2000 , loss:  0.0005351119\n",
            "Iteration:  3000 , loss:  0.00025292093\n",
            "Iteration:  4000 , loss:  2.551368e-05\n",
            "Iteration:  5000 , loss:  1.05252675e-05\n",
            "Iteration:  6000 , loss:  9.828505e-06\n",
            "Iteration:  7000 , loss:  3.5341811e-06\n",
            "Iteration:  8000 , loss:  1.6594136e-06\n",
            "Iteration:  9000 , loss:  2.2560995e-05\n",
            "Iteration:  10000 , loss:  9.884227e-07\n",
            "Iteration:  11000 , loss:  7.9002535e-07\n",
            "Iteration:  12000 , loss:  9.235958e-07\n",
            "Iteration:  13000 , loss:  6.0992033e-07\n",
            "Iteration:  14000 , loss:  5.3881354e-07\n",
            "Iteration:  15000 , loss:  3.441163e-06\n",
            "Iteration:  16000 , loss:  4.4097015e-07\n",
            "Iteration:  17000 , loss:  4.6179176e-07\n",
            "Iteration:  18000 , loss:  2.8100742e-06\n",
            "Iteration:  19000 , loss:  9.339636e-07\n",
            "Iteration:  20000 , loss:  6.7765154e-07\n",
            "Iteration:  21000 , loss:  5.565517e-07\n",
            "Iteration:  22000 , loss:  4.4633822e-07\n",
            "Iteration:  23000 , loss:  3.8327354e-07\n",
            "Iteration:  24000 , loss:  4.082626e-07\n",
            "Iteration:  25000 , loss:  1.8544863e-07\n",
            "Iteration:  26000 , loss:  4.620639e-07\n",
            "Iteration:  27000 , loss:  5.553514e-06\n",
            "Iteration:  28000 , loss:  1.1266658e-07\n",
            "Iteration:  29000 , loss:  2.3424504e-06\n",
            "Generating 6th sample by deep ensemble...\n",
            "Iteration:  0 , loss:  0.0820965\n",
            "Iteration:  1000 , loss:  0.0032965825\n",
            "Iteration:  2000 , loss:  0.00044311807\n",
            "Iteration:  3000 , loss:  0.00025863326\n",
            "Iteration:  4000 , loss:  1.3593802e-05\n",
            "Iteration:  5000 , loss:  3.491311e-06\n",
            "Iteration:  6000 , loss:  2.5055174e-06\n",
            "Iteration:  7000 , loss:  1.3896055e-06\n",
            "Iteration:  8000 , loss:  1.5664887e-06\n",
            "Iteration:  9000 , loss:  7.475367e-07\n",
            "Iteration:  10000 , loss:  5.0149174e-06\n",
            "Iteration:  11000 , loss:  5.023831e-07\n",
            "Iteration:  12000 , loss:  5.455555e-07\n",
            "Iteration:  13000 , loss:  5.7827833e-07\n",
            "Iteration:  14000 , loss:  3.5445402e-07\n",
            "Iteration:  15000 , loss:  3.2512202e-07\n",
            "Iteration:  16000 , loss:  8.227811e-06\n",
            "Iteration:  17000 , loss:  3.248884e-07\n",
            "Iteration:  18000 , loss:  1.1472996e-06\n",
            "Iteration:  19000 , loss:  3.023506e-07\n",
            "Iteration:  20000 , loss:  4.1870032e-07\n",
            "Iteration:  21000 , loss:  4.0253753e-06\n",
            "Iteration:  22000 , loss:  1.0875067e-06\n",
            "Iteration:  23000 , loss:  4.8536426e-06\n",
            "Iteration:  24000 , loss:  2.3523864e-07\n",
            "Iteration:  25000 , loss:  8.582152e-07\n",
            "Iteration:  26000 , loss:  7.7518877e-07\n",
            "Iteration:  27000 , loss:  4.4974513e-07\n",
            "Iteration:  28000 , loss:  1.9540828e-06\n",
            "Iteration:  29000 , loss:  1.8411288e-07\n",
            "Generating 7th sample by deep ensemble...\n",
            "Iteration:  0 , loss:  0.08045454\n",
            "Iteration:  1000 , loss:  0.0040482115\n",
            "Iteration:  2000 , loss:  0.00047281\n",
            "Iteration:  3000 , loss:  0.00011590801\n",
            "Iteration:  4000 , loss:  3.4457207e-05\n",
            "Iteration:  5000 , loss:  2.3698563e-05\n",
            "Iteration:  6000 , loss:  1.6464117e-05\n",
            "Iteration:  7000 , loss:  0.00017550141\n",
            "Iteration:  8000 , loss:  6.5528066e-06\n",
            "Iteration:  9000 , loss:  4.108523e-06\n",
            "Iteration:  10000 , loss:  0.00016528707\n",
            "Iteration:  11000 , loss:  1.9659522e-06\n",
            "Iteration:  12000 , loss:  8.692845e-06\n",
            "Iteration:  13000 , loss:  1.1844493e-06\n",
            "Iteration:  14000 , loss:  9.731448e-07\n",
            "Iteration:  15000 , loss:  8.264742e-07\n",
            "Iteration:  16000 , loss:  1.3150254e-06\n",
            "Iteration:  17000 , loss:  7.601629e-07\n",
            "Iteration:  18000 , loss:  3.8049075e-06\n",
            "Iteration:  19000 , loss:  5.435573e-07\n",
            "Iteration:  20000 , loss:  2.1384062e-06\n",
            "Iteration:  21000 , loss:  5.140937e-07\n",
            "Iteration:  22000 , loss:  3.4928432e-06\n",
            "Iteration:  23000 , loss:  4.2974165e-07\n",
            "Iteration:  24000 , loss:  1.6049803e-06\n",
            "Iteration:  25000 , loss:  1.2047833e-06\n",
            "Iteration:  26000 , loss:  8.313426e-06\n",
            "Iteration:  27000 , loss:  3.4994218e-07\n",
            "Iteration:  28000 , loss:  1.992049e-06\n",
            "Iteration:  29000 , loss:  3.7279648e-07\n",
            "Generating 8th sample by deep ensemble...\n",
            "Iteration:  0 , loss:  0.084060706\n",
            "Iteration:  1000 , loss:  0.005823688\n",
            "Iteration:  2000 , loss:  0.0010997558\n",
            "Iteration:  3000 , loss:  0.00022510915\n",
            "Iteration:  4000 , loss:  4.3807827e-06\n",
            "Iteration:  5000 , loss:  2.6012508e-06\n",
            "Iteration:  6000 , loss:  2.3310162e-05\n",
            "Iteration:  7000 , loss:  1.2802964e-06\n",
            "Iteration:  8000 , loss:  1.1045914e-06\n",
            "Iteration:  9000 , loss:  0.009665296\n",
            "Iteration:  10000 , loss:  2.4160722e-06\n",
            "Iteration:  11000 , loss:  1.4561024e-06\n",
            "Iteration:  12000 , loss:  1.2576199e-06\n",
            "Iteration:  13000 , loss:  1.0521218e-06\n",
            "Iteration:  14000 , loss:  8.548257e-07\n",
            "Iteration:  15000 , loss:  1.0912936e-06\n",
            "Iteration:  16000 , loss:  5.594095e-07\n",
            "Iteration:  17000 , loss:  5.1055747e-07\n",
            "Iteration:  18000 , loss:  1.4681262e-05\n",
            "Iteration:  19000 , loss:  1.9576843e-05\n",
            "Iteration:  20000 , loss:  4.4532862e-06\n",
            "Iteration:  21000 , loss:  2.1546118e-06\n",
            "Iteration:  22000 , loss:  1.5689783e-06\n",
            "Iteration:  23000 , loss:  1.1084833e-06\n",
            "Iteration:  24000 , loss:  8.014002e-07\n",
            "Iteration:  25000 , loss:  5.816766e-07\n",
            "Iteration:  26000 , loss:  5.607583e-07\n",
            "Iteration:  27000 , loss:  3.339232e-06\n",
            "Iteration:  28000 , loss:  2.6053328e-07\n",
            "Iteration:  29000 , loss:  3.2096293e-06\n",
            "Generating 9th sample by deep ensemble...\n",
            "Iteration:  0 , loss:  0.08347933\n",
            "Iteration:  1000 , loss:  0.00954783\n",
            "Iteration:  2000 , loss:  0.00056222023\n",
            "Iteration:  3000 , loss:  0.00024754455\n",
            "Iteration:  4000 , loss:  2.2757782e-05\n",
            "Iteration:  5000 , loss:  1.4186767e-05\n",
            "Iteration:  6000 , loss:  1.17375175e-05\n",
            "Iteration:  7000 , loss:  1.1276787e-05\n",
            "Iteration:  8000 , loss:  5.9119197e-06\n",
            "Iteration:  9000 , loss:  4.8588563e-06\n",
            "Iteration:  10000 , loss:  1.2987989e-06\n",
            "Iteration:  11000 , loss:  7.1628585e-07\n",
            "Iteration:  12000 , loss:  6.359405e-07\n",
            "Iteration:  13000 , loss:  1.7427411e-06\n",
            "Iteration:  14000 , loss:  5.419472e-07\n",
            "Iteration:  15000 , loss:  8.9128196e-07\n",
            "Iteration:  16000 , loss:  5.9263897e-07\n",
            "Iteration:  17000 , loss:  0.00020225615\n",
            "Iteration:  18000 , loss:  3.421763e-05\n",
            "Iteration:  19000 , loss:  5.635413e-06\n",
            "Iteration:  20000 , loss:  1.2044887e-06\n",
            "Iteration:  21000 , loss:  7.771111e-07\n",
            "Iteration:  22000 , loss:  6.7878955e-07\n",
            "Iteration:  23000 , loss:  5.6006434e-07\n",
            "Iteration:  24000 , loss:  7.5756657e-07\n",
            "Iteration:  25000 , loss:  5.6520213e-07\n",
            "Iteration:  26000 , loss:  3.7215284e-07\n",
            "Iteration:  27000 , loss:  4.4613257e-06\n",
            "Iteration:  28000 , loss:  4.842763e-06\n",
            "Iteration:  29000 , loss:  1.6939737e-06\n",
            "Execution time for 'Trainable' function is: 348.414 s, 5.807 mins\n"
          ]
        }
      ]
    },
    {
      "cell_type": "code",
      "source": [
        "u_pred, f_pred = model.predict(\n",
        "    t_test, samples, processes, pde_fn=None)\n",
        "\n",
        "Q1_pred, Q2_pred= np.split(u_pred, 2, axis=-1)"
      ],
      "metadata": {
        "id": "kqQVMIWfhh-x"
      },
      "execution_count": null,
      "outputs": []
    },
    {
      "cell_type": "code",
      "source": [
        "mu_Q1 = np.mean(Q1_pred, axis=0) * scale\n",
        "std_Q1 = np.std(Q1_pred, axis=0) * scale\n",
        "mu_Q2 = np.mean(Q2_pred, axis=0) * scale\n",
        "std_Q2 = np.std(Q2_pred, axis=0) * scale\n",
        "mu_f = np.mean(f_pred, axis=0) * scale\n",
        "std_f = np.std(f_pred, axis=0) * scale\n",
        "# plt.plot(t_test, Q1, label=\"reference of Q1\")\n",
        "plt.plot(t_test, mu_Q1, label=\"mean of Q1\")\n",
        "# plt.plot(t_test, Q1_pred, label=\"mean of Q1\")\n",
        "plt.plot(t_train, Q1_train * scale, \".\", label=\"observations\")\n",
        "plt.fill_between(\n",
        "    t_test.reshape([-1]),\n",
        "    (mu_Q1 + 2 * std_Q1).reshape([-1]),\n",
        "    (mu_Q1 - 2 * std_Q1).reshape([-1]),\n",
        "    alpha=0.3,\n",
        ")\n",
        "# plt.plot(t_test, Q2, label=\"reference of Q2\")\n",
        "plt.plot(t_test, mu_Q2, label=\"mean of Q2\")\n",
        "plt.plot(t_train, Q2_train * scale, \".\", label=\"observations\")\n",
        "plt.fill_between(\n",
        "    t_test.reshape([-1]),\n",
        "    (mu_Q2 + 2 * std_Q2).reshape([-1]),\n",
        "    (mu_Q2 - 2 * std_Q2).reshape([-1]),\n",
        "    alpha=0.3,\n",
        ")\n",
        "# plt.plot(t_test, f_pred, label=\"reference of R\")\n",
        "# plt.plot(t_test, mu_f, label=\"mean of D (re-scaled)\")\n",
        "# # plt.plot(t_train, f_train * scale, \".\", label=\"observations\")\n",
        "# plt.fill_between(\n",
        "#     t_test.reshape([-1]),\n",
        "#     (mu_f + 2 * std_f).reshape([-1]),\n",
        "#     (mu_f - 2 * std_f).reshape([-1]),\n",
        "#     alpha=0.3,\n",
        "# )\n",
        "# plt.plot(t_test, f, label=\"reference of D\")\n",
        "plt.legend()\n",
        "plt.show()"
      ],
      "metadata": {
        "colab": {
          "base_uri": "https://localhost:8080/",
          "height": 430
        },
        "id": "hlqQVFg3TkgP",
        "outputId": "28b049d4-dba9-48a2-f560-b817230319e3"
      },
      "execution_count": null,
      "outputs": [
        {
          "output_type": "display_data",
          "data": {
            "text/plain": [
              "<Figure size 640x480 with 1 Axes>"
            ],
            "image/png": "[encoded data removed]"
          },
          "metadata": {}
        }
      ]
    },
    {
      "cell_type": "code",
      "source": [
        "mu_f = np.mean(f_pred, axis=0) * scale\n",
        "std_f = np.std(f_pred, axis=0) * scale\n",
        "# plt.plot(t_test, f_pred, label=\"reference of f\")\n",
        "plt.plot(t_test, mu_f, label=\"mean of f\")\n",
        "# plt.plot(t_train, f_train * scale, \".\", label=\"observations\")\n",
        "plt.fill_between(\n",
        "    t_test.reshape([-1]),\n",
        "    (mu_f + 2 * std_f).reshape([-1]),\n",
        "    (mu_f - 2 * std_f).reshape([-1]),\n",
        "    alpha=0.3,\n",
        ")"
      ],
      "metadata": {
        "colab": {
          "base_uri": "https://localhost:8080/",
          "height": 448
        },
        "id": "ibMLCea-so4S",
        "outputId": "c573de48-b533-43a5-9896-0a6ecf3fa2b1"
      },
      "execution_count": null,
      "outputs": [
        {
          "output_type": "execute_result",
          "data": {
            "text/plain": [
              "<matplotlib.collections.PolyCollection at 0x7ce6907fc670>"
            ]
          },
          "metadata": {},
          "execution_count": 59
        },
        {
          "output_type": "display_data",
          "data": {
            "text/plain": [
              "<Figure size 640x480 with 1 Axes>"
            ],
            "image/png": "[encoded data removed]"
          },
          "metadata": {}
        }
      ]
    }
  ]
}